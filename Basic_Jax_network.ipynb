{
  "nbformat": 4,
  "nbformat_minor": 0,
  "metadata": {
    "colab": {
      "name": "Basic Jax network.ipynb",
      "provenance": [],
      "collapsed_sections": [],
      "toc_visible": true,
      "authorship_tag": "ABX9TyNt5fv4+R6v7IPW3plRkZqd"
    },
    "kernelspec": {
      "name": "python3",
      "display_name": "Python 3"
    }
  },
  "cells": [
    {
      "cell_type": "code",
      "metadata": {
        "id": "NkW8UxnSazTD",
        "colab_type": "code",
        "colab": {
          "base_uri": "https://localhost:8080/",
          "height": 102
        },
        "outputId": "e1b9ed8b-f939-48e6-b172-7fc70a9f03f7"
      },
      "source": [
        "!pip install jax"
      ],
      "execution_count": 1,
      "outputs": [
        {
          "output_type": "stream",
          "text": [
            "Requirement already satisfied: jax in /usr/local/lib/python3.6/dist-packages (0.1.69)\n",
            "Requirement already satisfied: absl-py in /usr/local/lib/python3.6/dist-packages (from jax) (0.9.0)\n",
            "Requirement already satisfied: opt-einsum in /usr/local/lib/python3.6/dist-packages (from jax) (3.2.1)\n",
            "Requirement already satisfied: numpy>=1.12 in /usr/local/lib/python3.6/dist-packages (from jax) (1.18.5)\n",
            "Requirement already satisfied: six in /usr/local/lib/python3.6/dist-packages (from absl-py->jax) (1.12.0)\n"
          ],
          "name": "stdout"
        }
      ]
    },
    {
      "cell_type": "code",
      "metadata": {
        "id": "GE9u3i05cM0G",
        "colab_type": "code",
        "colab": {}
      },
      "source": [
        "import jax.numpy as np\n",
        "from jax import grad,jit,vmap\n",
        "from jax import random\n",
        "import matplotlib.pyplot as py\n",
        "import numpy as onp\n",
        "from jax import device_put\n",
        "import random"
      ],
      "execution_count": 2,
      "outputs": []
    },
    {
      "cell_type": "code",
      "metadata": {
        "id": "8GjAVZZKf07N",
        "colab_type": "code",
        "colab": {
          "base_uri": "https://localhost:8080/",
          "height": 119
        },
        "outputId": "4e702d5d-6efc-45c8-c1d0-c983e9f38998"
      },
      "source": [
        "!git clone https://github.com/pluu2/JaxNetwork"
      ],
      "execution_count": 3,
      "outputs": [
        {
          "output_type": "stream",
          "text": [
            "Cloning into 'JaxNetwork'...\n",
            "remote: Enumerating objects: 46, done.\u001b[K\n",
            "remote: Counting objects: 100% (46/46), done.\u001b[K\n",
            "remote: Compressing objects: 100% (41/41), done.\u001b[K\n",
            "remote: Total 46 (delta 9), reused 0 (delta 0), pack-reused 0\u001b[K\n",
            "Unpacking objects: 100% (46/46), done.\n"
          ],
          "name": "stdout"
        }
      ]
    },
    {
      "cell_type": "code",
      "metadata": {
        "id": "pIALnG6GI81m",
        "colab_type": "code",
        "colab": {}
      },
      "source": [
        "from JaxNetwork.model.jax_base_model import jax_base_model\n",
        "from JaxNetwork.model.network_dense import network_dense\n"
      ],
      "execution_count": 4,
      "outputs": []
    },
    {
      "cell_type": "markdown",
      "metadata": {
        "id": "bF4WFRsK5XIg",
        "colab_type": "text"
      },
      "source": [
        "###Model \n",
        "\n",
        "  "
      ]
    },
    {
      "cell_type": "code",
      "metadata": {
        "id": "C0zgxugt5Y3L",
        "colab_type": "code",
        "colab": {}
      },
      "source": [
        "\n",
        "class model(jax_base_model): \n",
        "\n",
        "  def __init__(self): \n",
        "    jax_base_model.__init__(self)\n",
        "    self.layer.append(network_dense(2,10))\n",
        "    self.layer.append(network_dense(10,4))\n",
        "    self.layer.append(network_dense(4,1))\n",
        "\n",
        "\n",
        "    self.num_layers=len(self.layer)\n",
        "    self.input=[]\n",
        "    self.target=[]\n",
        "\n",
        "  def forward(self,x): \n",
        "    l1=self.layer[0].forward(x) \n",
        "    l1=self.tanh_act(l1) \n",
        "    l2=self.layer[1].forward(l1)\n",
        "    l2=self.tanh_act(l2)\n",
        "    l3=self.layer[2].forward(l2)\n",
        "    l3=self.sigmoid_act(l3) \n",
        "    return l3\n",
        "\n",
        "  \n",
        "  def backwards (self,parameters): \n",
        "    l1=self.layer[0].forward(self.input,parameters[str(0) + ' weights'], parameters[str(0) + ' bias']) \n",
        "    l1=self.tanh_act(l1) \n",
        "    l2=self.layer[1].forward(l1,parameters[str(1) + ' weights'], parameters[str(1) + ' bias'] )\n",
        "    l2=self.tanh_act(l2)\n",
        "    l3=self.layer[2].forward(l2,parameters[str(2) + ' weights'], parameters[str(2) + ' bias'])\n",
        "    l3=self.sigmoid_act(l3) \n",
        "    return self.binary_crossentropy(l3[0],self.target)\n",
        "\n",
        "  \n",
        "\n",
        "  "
      ],
      "execution_count": 5,
      "outputs": []
    },
    {
      "cell_type": "markdown",
      "metadata": {
        "id": "9rLNQR35ib9Z",
        "colab_type": "text"
      },
      "source": [
        "#Training"
      ]
    },
    {
      "cell_type": "code",
      "metadata": {
        "id": "i-B4d1WaSP9q",
        "colab_type": "code",
        "colab": {
          "base_uri": "https://localhost:8080/",
          "height": 241
        },
        "outputId": "47d3df01-c447-4a87-fa52-00377827a439"
      },
      "source": [
        "onp.random.seed(1000)\n",
        "model1=model()\n",
        "input_=[[1,0],\n",
        "        [0,1],\n",
        "        [1,1],\n",
        "        [0,0]]\n",
        "targets=[1.0,\n",
        "         1.0,\n",
        "         0.0,\n",
        "         0.0]\n",
        "input_=np.array(input_)\n",
        "\n",
        "ctr=0\n",
        "loss=0\n",
        "for epochs in range (200):\n",
        "  trainable_variables=model1.trainable_variables()\n",
        "  model1.set_input(input_[ctr])\n",
        "  model1.set_targets(targets[ctr])\n",
        "  model_gradient=model1.gradient(trainable_variables)\n",
        "  model1.update_weights(model_gradient,lr=0.1)\n",
        "  loss+=model1.backwards(trainable_variables)\n",
        "  ctr+=1\n",
        "  if ctr>3:\n",
        "    ctr=0\n",
        "  if not epochs%100:\n",
        "    print (round(model1.forward(input_)))"
      ],
      "execution_count": 6,
      "outputs": [
        {
          "output_type": "stream",
          "text": [
            "/usr/local/lib/python3.6/dist-packages/jax/lib/xla_bridge.py:127: UserWarning: No GPU/TPU found, falling back to CPU.\n",
            "  warnings.warn('No GPU/TPU found, falling back to CPU.')\n",
            "/usr/local/lib/python3.6/dist-packages/jax/lax/lax.py:5487: UserWarning: Explicitly requested dtype <class 'jax.numpy.lax_numpy.int64'> requested in astype is not available, and will be truncated to dtype int32. To enable more dtypes, set the jax_enable_x64 configuration option or the JAX_ENABLE_X64 shell environment variable. See https://github.com/google/jax#current-gotchas for more.\n",
            "  warnings.warn(msg.format(dtype, fun_name , truncated_dtype))\n"
          ],
          "name": "stderr"
        },
        {
          "output_type": "stream",
          "text": [
            "[[1]\n",
            " [1]\n",
            " [1]\n",
            " [0]]\n",
            "[[1]\n",
            " [1]\n",
            " [0]\n",
            " [0]]\n"
          ],
          "name": "stdout"
        }
      ]
    },
    {
      "cell_type": "code",
      "metadata": {
        "id": "nfSUUGcAMPxQ",
        "colab_type": "code",
        "colab": {
          "base_uri": "https://localhost:8080/",
          "height": 139
        },
        "outputId": "f114c59b-ca4c-4dc0-bc12-dd1a55a7e179"
      },
      "source": [
        "round(model1.forward([[1,0],[0,1],[1,1],[0,0]]))"
      ],
      "execution_count": 7,
      "outputs": [
        {
          "output_type": "stream",
          "text": [
            "/usr/local/lib/python3.6/dist-packages/jax/lax/lax.py:5487: UserWarning: Explicitly requested dtype <class 'jax.numpy.lax_numpy.int64'> requested in astype is not available, and will be truncated to dtype int32. To enable more dtypes, set the jax_enable_x64 configuration option or the JAX_ENABLE_X64 shell environment variable. See https://github.com/google/jax#current-gotchas for more.\n",
            "  warnings.warn(msg.format(dtype, fun_name , truncated_dtype))\n"
          ],
          "name": "stderr"
        },
        {
          "output_type": "execute_result",
          "data": {
            "text/plain": [
              "DeviceArray([[1],\n",
              "             [1],\n",
              "             [0],\n",
              "             [0]], dtype=int32)"
            ]
          },
          "metadata": {
            "tags": []
          },
          "execution_count": 7
        }
      ]
    },
    {
      "cell_type": "code",
      "metadata": {
        "id": "2K1i5OOks6hT",
        "colab_type": "code",
        "colab": {}
      },
      "source": [
        ""
      ],
      "execution_count": null,
      "outputs": []
    }
  ]
}